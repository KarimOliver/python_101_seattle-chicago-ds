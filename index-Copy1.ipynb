{
 "cells": [
  {
   "cell_type": "markdown",
   "metadata": {},
   "source": [
    "# Data Science Practice Daily Checkpoint\n",
    "\n",
    "This assignment is designed to test your understanding of the daily checkpoint process. It covers:\n",
    "\n",
    " - Anwering a code question\n",
    " - Answering a short answer question\n",
    " \n",
    "Read the instructions carefully. You will be asked both to write code and to respond to a short answer question.\n",
    "\n",
    "**Note on daily checkpoint short answer questions:** Please use your own words. The expectation is that you have not copied and pasted from an external source, even if you consult another source to help craft your response. While the short answer questions are not necessarily being assessed on grammatical correctness or sentence structure, you should do your best to communicate yourself clearly."
   ]
  },
  {
   "cell_type": "markdown",
   "metadata": {},
   "source": [
    "## Question 1\n",
    "\n",
    "Adapt the `greet_user` function to do the following:\n",
    "\n",
    " - take a name as an argument\n",
    " - print \"Greetings! I am `name` and I am pleased to make your acquaintance!\"\n",
    "\n",
    "Then in the next cell, assign your actual name (i.e. \"Sir Patrick Stewart\" or \"Lupita Nyong'o\") to the variable `name`.\n",
    "\n",
    "Run all cells to confirm the result."
   ]
  },
  {
   "cell_type": "code",
   "execution_count": 13,
   "metadata": {},
   "outputs": [],
   "source": [
    "# Modify the code in this cell to fulfill the requirements of Question 1\n",
    "def greet_user():\n",
    "    print(\"\"\"\n",
    "    Greetings! I am Karim Oliver and I am pleased to make your acquaintance! \n",
    "    \n",
    "    \"\"\")\n",
    "    \n",
    "\n",
    "   "
   ]
  },
  {
   "cell_type": "code",
   "execution_count": 14,
   "metadata": {},
   "outputs": [],
   "source": [
    "name = 'Karim Oliver'"
   ]
  },
  {
   "cell_type": "code",
   "execution_count": 17,
   "metadata": {},
   "outputs": [
    {
     "name": "stdout",
     "output_type": "stream",
     "text": [
      "\n",
      "    Greetings! I am Karim Oliver and I am pleased to make your acquaintance! \n",
      "    \n",
      "    \n"
     ]
    }
   ],
   "source": [
    "greet_user()"
   ]
  },
  {
   "cell_type": "markdown",
   "metadata": {},
   "source": [
    "## Question 2\n",
    "\n",
    "Please explain the purpose of daily checkpoints and code challenges in the Flatiron School Data Science program."
   ]
  },
  {
   "cell_type": "code",
   "execution_count": null,
   "metadata": {},
   "outputs": [],
   "source": [
    "Daily checkpoints and code challenges allow the professors a quick glance into the \n",
    "progress of their students, while the students an opportunity to test their grasp of the lesssons. "
   ]
  }
 ],
 "metadata": {
  "kernelspec": {
   "display_name": "Python 3",
   "language": "python",
   "name": "python3"
  },
  "language_info": {
   "codemirror_mode": {
    "name": "ipython",
    "version": 3
   },
   "file_extension": ".py",
   "mimetype": "text/x-python",
   "name": "python",
   "nbconvert_exporter": "python",
   "pygments_lexer": "ipython3",
   "version": "3.7.6"
  }
 },
 "nbformat": 4,
 "nbformat_minor": 4
}
